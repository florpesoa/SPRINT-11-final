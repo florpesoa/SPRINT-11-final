{
 "cells": [
  {
   "cell_type": "code",
   "execution_count": 55,
   "id": "2eede2c0",
   "metadata": {},
   "outputs": [],
   "source": [
    "import pandas as pd \n",
    "import numpy as np\n",
    "import matplotlib.pyplot as plt\n",
    "import seaborn as sns\n",
    "from sklearn import preprocessing\n",
    "from sklearn.model_selection import train_test_split\n",
    "from scipy import stats\n",
    "from statsmodels.tsa.stattools import adfuller\n",
    "from statsmodels.graphics.tsaplots import plot_acf, plot_pacf\n",
    "from pmdarima.arima import auto_arima\n",
    "\n",
    "# Tratamiento de datos\n",
    "# ==============================================================================\n",
    "import numpy as np\n",
    "import pandas as pd\n",
    "\n",
    "# Gráficos\n",
    "# ==============================================================================\n",
    "import matplotlib.pyplot as plt\n",
    "plt.style.use('fivethirtyeight')\n",
    "plt.rcParams['lines.linewidth'] = 1.5\n",
    "\n",
    "# Modelado y Forecasting\n",
    "# ==============================================================================\n",
    "from sklearn.linear_model import LinearRegression\n",
    "from sklearn.linear_model import Lasso\n",
    "from sklearn.ensemble import RandomForestRegressor\n",
    "from sklearn.metrics import mean_squared_error\n",
    "from sklearn.preprocessing import StandardScaler\n",
    "from sklearn.pipeline import make_pipeline\n",
    "\n",
    "\n",
    "from skforecast.ForecasterAutoreg import ForecasterAutoreg\n",
    "from skforecast.ForecasterAutoregCustom import ForecasterAutoregCustom\n",
    "from skforecast.ForecasterAutoregDirect import ForecasterAutoregDirect\n",
    "from skforecast.model_selection import grid_search_forecaster\n",
    "from skforecast.model_selection import backtesting_forecaster\n",
    "from skforecast.utils import save_forecaster\n",
    "from skforecast.utils import load_forecaster\n",
    "from datetime import datetime, timedelta\n",
    "\n",
    "# Configuración warnings\n",
    "# ==============================================================================\n",
    "import warnings\n",
    "# warnings.filterwarnings('ignore')"
   ]
  },
  {
   "cell_type": "code",
   "execution_count": 25,
   "id": "cb9399a0",
   "metadata": {},
   "outputs": [],
   "source": [
    "lugar_nacimiento=pd.read_csv('lugar_nacimiento_171334.csv', sep=';')"
   ]
  },
  {
   "cell_type": "code",
   "execution_count": 26,
   "id": "f4d86f08",
   "metadata": {},
   "outputs": [],
   "source": [
    "lugar_nacimiento=lugar_nacimiento.rename(columns={'Unnamed: 0': 'Año'})"
   ]
  },
  {
   "cell_type": "code",
   "execution_count": 27,
   "id": "0d5fff16",
   "metadata": {},
   "outputs": [
    {
     "data": {
      "text/plain": [
       "Index(['Año', 'Catalunya', 'Mateixa comarca', 'Altra comarca',\n",
       "       'Resta de l'Estat', 'Estranger', 'Total'],\n",
       "      dtype='object')"
      ]
     },
     "execution_count": 27,
     "metadata": {},
     "output_type": "execute_result"
    }
   ],
   "source": [
    "lugar_nacimiento.columns"
   ]
  },
  {
   "cell_type": "code",
   "execution_count": 28,
   "id": "ed7c87e3",
   "metadata": {},
   "outputs": [
    {
     "data": {
      "text/html": [
       "<div>\n",
       "<style scoped>\n",
       "    .dataframe tbody tr th:only-of-type {\n",
       "        vertical-align: middle;\n",
       "    }\n",
       "\n",
       "    .dataframe tbody tr th {\n",
       "        vertical-align: top;\n",
       "    }\n",
       "\n",
       "    .dataframe thead th {\n",
       "        text-align: right;\n",
       "    }\n",
       "</style>\n",
       "<table border=\"1\" class=\"dataframe\">\n",
       "  <thead>\n",
       "    <tr style=\"text-align: right;\">\n",
       "      <th></th>\n",
       "      <th>Año</th>\n",
       "      <th>Catalunya</th>\n",
       "      <th>Mateixa comarca</th>\n",
       "      <th>Altra comarca</th>\n",
       "      <th>Resta de l'Estat</th>\n",
       "      <th>Estranger</th>\n",
       "      <th>Total</th>\n",
       "    </tr>\n",
       "  </thead>\n",
       "  <tbody>\n",
       "    <tr>\n",
       "      <th>22</th>\n",
       "      <td>2000</td>\n",
       "      <td>1588</td>\n",
       "      <td>1227</td>\n",
       "      <td>361</td>\n",
       "      <td>80</td>\n",
       "      <td>56</td>\n",
       "      <td>1724</td>\n",
       "    </tr>\n",
       "    <tr>\n",
       "      <th>21</th>\n",
       "      <td>2001</td>\n",
       "      <td>1617</td>\n",
       "      <td>1247</td>\n",
       "      <td>370</td>\n",
       "      <td>80</td>\n",
       "      <td>71</td>\n",
       "      <td>1768</td>\n",
       "    </tr>\n",
       "    <tr>\n",
       "      <th>20</th>\n",
       "      <td>2002</td>\n",
       "      <td>1596</td>\n",
       "      <td>1222</td>\n",
       "      <td>374</td>\n",
       "      <td>77</td>\n",
       "      <td>77</td>\n",
       "      <td>1750</td>\n",
       "    </tr>\n",
       "    <tr>\n",
       "      <th>19</th>\n",
       "      <td>2003</td>\n",
       "      <td>1583</td>\n",
       "      <td>1207</td>\n",
       "      <td>376</td>\n",
       "      <td>74</td>\n",
       "      <td>71</td>\n",
       "      <td>1728</td>\n",
       "    </tr>\n",
       "    <tr>\n",
       "      <th>18</th>\n",
       "      <td>2004</td>\n",
       "      <td>1569</td>\n",
       "      <td>1187</td>\n",
       "      <td>382</td>\n",
       "      <td>73</td>\n",
       "      <td>78</td>\n",
       "      <td>1720</td>\n",
       "    </tr>\n",
       "    <tr>\n",
       "      <th>17</th>\n",
       "      <td>2005</td>\n",
       "      <td>1566</td>\n",
       "      <td>1168</td>\n",
       "      <td>398</td>\n",
       "      <td>80</td>\n",
       "      <td>108</td>\n",
       "      <td>1754</td>\n",
       "    </tr>\n",
       "    <tr>\n",
       "      <th>16</th>\n",
       "      <td>2006</td>\n",
       "      <td>1586</td>\n",
       "      <td>1182</td>\n",
       "      <td>404</td>\n",
       "      <td>82</td>\n",
       "      <td>130</td>\n",
       "      <td>1798</td>\n",
       "    </tr>\n",
       "    <tr>\n",
       "      <th>15</th>\n",
       "      <td>2007</td>\n",
       "      <td>1585</td>\n",
       "      <td>1174</td>\n",
       "      <td>411</td>\n",
       "      <td>82</td>\n",
       "      <td>142</td>\n",
       "      <td>1809</td>\n",
       "    </tr>\n",
       "    <tr>\n",
       "      <th>14</th>\n",
       "      <td>2008</td>\n",
       "      <td>1558</td>\n",
       "      <td>1161</td>\n",
       "      <td>397</td>\n",
       "      <td>79</td>\n",
       "      <td>158</td>\n",
       "      <td>1795</td>\n",
       "    </tr>\n",
       "    <tr>\n",
       "      <th>13</th>\n",
       "      <td>2009</td>\n",
       "      <td>1520</td>\n",
       "      <td>1141</td>\n",
       "      <td>379</td>\n",
       "      <td>72</td>\n",
       "      <td>164</td>\n",
       "      <td>1756</td>\n",
       "    </tr>\n",
       "    <tr>\n",
       "      <th>12</th>\n",
       "      <td>2010</td>\n",
       "      <td>1496</td>\n",
       "      <td>1112</td>\n",
       "      <td>384</td>\n",
       "      <td>76</td>\n",
       "      <td>155</td>\n",
       "      <td>1727</td>\n",
       "    </tr>\n",
       "    <tr>\n",
       "      <th>11</th>\n",
       "      <td>2011</td>\n",
       "      <td>1470</td>\n",
       "      <td>1085</td>\n",
       "      <td>385</td>\n",
       "      <td>78</td>\n",
       "      <td>160</td>\n",
       "      <td>1708</td>\n",
       "    </tr>\n",
       "    <tr>\n",
       "      <th>10</th>\n",
       "      <td>2012</td>\n",
       "      <td>1456</td>\n",
       "      <td>1070</td>\n",
       "      <td>386</td>\n",
       "      <td>76</td>\n",
       "      <td>169</td>\n",
       "      <td>1701</td>\n",
       "    </tr>\n",
       "    <tr>\n",
       "      <th>9</th>\n",
       "      <td>2013</td>\n",
       "      <td>1450</td>\n",
       "      <td>1056</td>\n",
       "      <td>394</td>\n",
       "      <td>69</td>\n",
       "      <td>167</td>\n",
       "      <td>1686</td>\n",
       "    </tr>\n",
       "    <tr>\n",
       "      <th>8</th>\n",
       "      <td>2014</td>\n",
       "      <td>1452</td>\n",
       "      <td>1049</td>\n",
       "      <td>403</td>\n",
       "      <td>72</td>\n",
       "      <td>170</td>\n",
       "      <td>1694</td>\n",
       "    </tr>\n",
       "    <tr>\n",
       "      <th>7</th>\n",
       "      <td>2015</td>\n",
       "      <td>1446</td>\n",
       "      <td>1038</td>\n",
       "      <td>408</td>\n",
       "      <td>68</td>\n",
       "      <td>160</td>\n",
       "      <td>1674</td>\n",
       "    </tr>\n",
       "    <tr>\n",
       "      <th>6</th>\n",
       "      <td>2016</td>\n",
       "      <td>1431</td>\n",
       "      <td>1023</td>\n",
       "      <td>408</td>\n",
       "      <td>65</td>\n",
       "      <td>166</td>\n",
       "      <td>1662</td>\n",
       "    </tr>\n",
       "    <tr>\n",
       "      <th>5</th>\n",
       "      <td>2017</td>\n",
       "      <td>1406</td>\n",
       "      <td>1002</td>\n",
       "      <td>404</td>\n",
       "      <td>63</td>\n",
       "      <td>160</td>\n",
       "      <td>1629</td>\n",
       "    </tr>\n",
       "    <tr>\n",
       "      <th>4</th>\n",
       "      <td>2018</td>\n",
       "      <td>1419</td>\n",
       "      <td>991</td>\n",
       "      <td>428</td>\n",
       "      <td>64</td>\n",
       "      <td>177</td>\n",
       "      <td>1660</td>\n",
       "    </tr>\n",
       "    <tr>\n",
       "      <th>3</th>\n",
       "      <td>2019</td>\n",
       "      <td>1414</td>\n",
       "      <td>984</td>\n",
       "      <td>430</td>\n",
       "      <td>68</td>\n",
       "      <td>201</td>\n",
       "      <td>1683</td>\n",
       "    </tr>\n",
       "    <tr>\n",
       "      <th>2</th>\n",
       "      <td>2020</td>\n",
       "      <td>1424</td>\n",
       "      <td>982</td>\n",
       "      <td>442</td>\n",
       "      <td>70</td>\n",
       "      <td>218</td>\n",
       "      <td>1712</td>\n",
       "    </tr>\n",
       "    <tr>\n",
       "      <th>1</th>\n",
       "      <td>2021</td>\n",
       "      <td>1420</td>\n",
       "      <td>967</td>\n",
       "      <td>453</td>\n",
       "      <td>70</td>\n",
       "      <td>221</td>\n",
       "      <td>1711</td>\n",
       "    </tr>\n",
       "    <tr>\n",
       "      <th>0</th>\n",
       "      <td>2022</td>\n",
       "      <td>1446</td>\n",
       "      <td>969</td>\n",
       "      <td>477</td>\n",
       "      <td>69</td>\n",
       "      <td>230</td>\n",
       "      <td>1745</td>\n",
       "    </tr>\n",
       "  </tbody>\n",
       "</table>\n",
       "</div>"
      ],
      "text/plain": [
       "     Año  Catalunya  Mateixa comarca  Altra comarca  Resta de l'Estat  \\\n",
       "22  2000       1588             1227            361                80   \n",
       "21  2001       1617             1247            370                80   \n",
       "20  2002       1596             1222            374                77   \n",
       "19  2003       1583             1207            376                74   \n",
       "18  2004       1569             1187            382                73   \n",
       "17  2005       1566             1168            398                80   \n",
       "16  2006       1586             1182            404                82   \n",
       "15  2007       1585             1174            411                82   \n",
       "14  2008       1558             1161            397                79   \n",
       "13  2009       1520             1141            379                72   \n",
       "12  2010       1496             1112            384                76   \n",
       "11  2011       1470             1085            385                78   \n",
       "10  2012       1456             1070            386                76   \n",
       "9   2013       1450             1056            394                69   \n",
       "8   2014       1452             1049            403                72   \n",
       "7   2015       1446             1038            408                68   \n",
       "6   2016       1431             1023            408                65   \n",
       "5   2017       1406             1002            404                63   \n",
       "4   2018       1419              991            428                64   \n",
       "3   2019       1414              984            430                68   \n",
       "2   2020       1424              982            442                70   \n",
       "1   2021       1420              967            453                70   \n",
       "0   2022       1446              969            477                69   \n",
       "\n",
       "    Estranger  Total  \n",
       "22         56   1724  \n",
       "21         71   1768  \n",
       "20         77   1750  \n",
       "19         71   1728  \n",
       "18         78   1720  \n",
       "17        108   1754  \n",
       "16        130   1798  \n",
       "15        142   1809  \n",
       "14        158   1795  \n",
       "13        164   1756  \n",
       "12        155   1727  \n",
       "11        160   1708  \n",
       "10        169   1701  \n",
       "9         167   1686  \n",
       "8         170   1694  \n",
       "7         160   1674  \n",
       "6         166   1662  \n",
       "5         160   1629  \n",
       "4         177   1660  \n",
       "3         201   1683  \n",
       "2         218   1712  \n",
       "1         221   1711  \n",
       "0         230   1745  "
      ]
     },
     "execution_count": 28,
     "metadata": {},
     "output_type": "execute_result"
    }
   ],
   "source": [
    "lugar_nacimiento_planes=lugar_nacimiento.sort_values(by='Año', ascending=True)\n",
    "lugar_nacimiento_planes"
   ]
  },
  {
   "cell_type": "code",
   "execution_count": 29,
   "id": "5f7fb82b",
   "metadata": {},
   "outputs": [],
   "source": [
    "serie_extranjeros_planes = lugar_nacimiento_planes[['Año', 'Estranger']]\n",
    "serie_extranjeros_planes = lugar_nacimiento_planes.set_index('Año')\n",
    "serie_extranjeros_planes.index = pd.to_datetime(serie_extranjeros_planes.index, format='%Y')\n",
    "serie_extranjeros_planes = serie_extranjeros_planes['Estranger']"
   ]
  },
  {
   "cell_type": "code",
   "execution_count": 30,
   "id": "b0461a00",
   "metadata": {},
   "outputs": [
    {
     "name": "stdout",
     "output_type": "stream",
     "text": [
      "Número de filas con missing values: 0.0\n"
     ]
    }
   ],
   "source": [
    "print(f'Número de filas con missing values: {lugar_nacimiento.isnull().any(axis=1).mean()}')"
   ]
  },
  {
   "cell_type": "code",
   "execution_count": 31,
   "id": "a9305386",
   "metadata": {},
   "outputs": [
    {
     "name": "stdout",
     "output_type": "stream",
     "text": [
      "Fechas train : 2000-01-01 00:00:00 --- 2015-01-01 00:00:00  (n=16)\n",
      "Fechas test  : 2016-01-01 00:00:00 --- 2022-01-01 00:00:00  (n=7)\n"
     ]
    },
    {
     "data": {
      "image/png": "[encoded data removed]",
      "text/plain": [
       "<Figure size 720x432 with 1 Axes>"
      ]
     },
     "metadata": {},
     "output_type": "display_data"
    }
   ],
   "source": [
    "# Separación datos train-test\n",
    "# ==============================================================================\n",
    "steps = 7 #se utilizan los últimos 7 años como conjunto test para evaluar la capacidad del modelo\n",
    "datos_train = serie_extranjeros_planes[:-steps]\n",
    "datos_test  = serie_extranjeros_planes[-steps:]\n",
    "\n",
    "print(f\"Fechas train : {datos_train.index.min()} --- {datos_train.index.max()}  (n={len(datos_train)})\")\n",
    "print(f\"Fechas test  : {datos_test.index.min()} --- {datos_test.index.max()}  (n={len(datos_test)})\")\n",
    "\n",
    "fig, ax = plt.subplots(figsize=(10, 6))\n",
    "datos_train.plot(ax=ax, label='train')\n",
    "datos_test.plot(ax=ax, label='test')\n",
    "ax.legend();\n",
    "\n",
    "fig.savefig('train_test_planes.png')"
   ]
  },
  {
   "cell_type": "markdown",
   "id": "e8eea12e",
   "metadata": {},
   "source": [
    "### ForecasterAutoreg\n",
    "\n",
    "Se crea y entrena un modelo ForecasterAutoreg a partir de un regresor RandomForestRegressor y una ventana temporal de 7 lags. Esto último significa que, el modelo, utiliza como predictores los 7 años anteriores."
   ]
  },
  {
   "cell_type": "code",
   "execution_count": 9,
   "id": "0d20f04c",
   "metadata": {},
   "outputs": [],
   "source": [
    "#datos_test.index = pd.to_datetime(datos_test.index, format='%Y-%m-%d')\n",
    "#datos_train.index = pd.to_datetime(datos_train.index, format='%Y-%m-%d')"
   ]
  },
  {
   "cell_type": "code",
   "execution_count": 32,
   "id": "281d1c24",
   "metadata": {},
   "outputs": [
    {
     "data": {
      "text/plain": [
       "Año\n",
       "2016-01-01    166\n",
       "2017-01-01    160\n",
       "2018-01-01    177\n",
       "2019-01-01    201\n",
       "2020-01-01    218\n",
       "2021-01-01    221\n",
       "2022-01-01    230\n",
       "Name: Estranger, dtype: int64"
      ]
     },
     "execution_count": 32,
     "metadata": {},
     "output_type": "execute_result"
    }
   ],
   "source": [
    "datos_test"
   ]
  },
  {
   "cell_type": "code",
   "execution_count": 33,
   "id": "7cdc83f3",
   "metadata": {},
   "outputs": [],
   "source": [
    "freq = pd.infer_freq(datos_train.index)\n",
    "datos_train.index = pd.date_range(start=datos_train.index[0], periods=len(datos_train), freq=freq)"
   ]
  },
  {
   "cell_type": "code",
   "execution_count": 34,
   "id": "597eaf93",
   "metadata": {},
   "outputs": [],
   "source": [
    "freq = pd.infer_freq(datos_test.index)\n",
    "datos_test.index = pd.date_range(start=datos_test.index[0], periods=len(datos_test), freq=freq)"
   ]
  },
  {
   "cell_type": "code",
   "execution_count": 35,
   "id": "22dcdce1",
   "metadata": {},
   "outputs": [
    {
     "data": {
      "text/plain": [
       "================= \n",
       "ForecasterAutoreg \n",
       "================= \n",
       "Regressor: RandomForestRegressor(random_state=123) \n",
       "Lags: [1 2 3 4 5 6 7] \n",
       "Transformer for y: None \n",
       "Transformer for exog: None \n",
       "Window size: 7 \n",
       "Weight function included: False \n",
       "Exogenous included: False \n",
       "Type of exogenous variable: None \n",
       "Exogenous variables names: None \n",
       "Training range: [Timestamp('2000-01-01 00:00:00'), Timestamp('2015-01-01 00:00:00')] \n",
       "Training index type: DatetimeIndex \n",
       "Training index frequency: AS-JAN \n",
       "Regressor parameters: {'bootstrap': True, 'ccp_alpha': 0.0, 'criterion': 'squared_error', 'max_depth': None, 'max_features': 1.0, 'max_leaf_nodes': None, 'max_samples': None, 'min_impurity_decrease': 0.0, 'min_samples_leaf': 1, 'min_samples_split': 2, 'min_weight_fraction_leaf': 0.0, 'n_estimators': 100, 'n_jobs': None, 'oob_score': False, 'random_state': 123, 'verbose': 0, 'warm_start': False} \n",
       "Creation date: 2023-04-12 23:46:45 \n",
       "Last fit date: 2023-04-12 23:46:45 \n",
       "Skforecast version: 0.7.0 \n",
       "Python version: 3.10.5 \n",
       "Forecaster id: None "
      ]
     },
     "execution_count": 35,
     "metadata": {},
     "output_type": "execute_result"
    }
   ],
   "source": [
    "# Crear y entrenar forecaster\n",
    "# ==============================================================================\n",
    "forecaster = ForecasterAutoreg(\n",
    "                regressor = RandomForestRegressor(random_state=123),\n",
    "                lags = 7\n",
    "             )\n",
    "\n",
    "forecaster.fit(y=datos_train)\n",
    "forecaster"
   ]
  },
  {
   "cell_type": "markdown",
   "id": "21cae648",
   "metadata": {},
   "source": [
    "### Predicciones\n",
    "\n",
    "Una vez entrenado el modelo, se predicen los datos de test (5 años a futuro)."
   ]
  },
  {
   "cell_type": "code",
   "execution_count": 36,
   "id": "f09f9082",
   "metadata": {},
   "outputs": [
    {
     "data": {
      "text/plain": [
       "2016-01-01    165.50\n",
       "2017-01-01    165.75\n",
       "2018-01-01    165.47\n",
       "2019-01-01    165.35\n",
       "2020-01-01    165.23\n",
       "2021-01-01    166.11\n",
       "2022-01-01    165.35\n",
       "Freq: AS-JAN, Name: pred, dtype: float64"
      ]
     },
     "execution_count": 36,
     "metadata": {},
     "output_type": "execute_result"
    }
   ],
   "source": [
    "steps = 7\n",
    "predicciones = forecaster.predict(steps=steps)\n",
    "predicciones.head(7)"
   ]
  },
  {
   "cell_type": "code",
   "execution_count": 38,
   "id": "5e846c71",
   "metadata": {},
   "outputs": [
    {
     "data": {
      "image/png": "[encoded data removed]",
      "text/plain": [
       "<Figure size 720x432 with 1 Axes>"
      ]
     },
     "metadata": {},
     "output_type": "display_data"
    }
   ],
   "source": [
    "# Gráfico\n",
    "fig, ax = plt.subplots(figsize=(10, 6))\n",
    "datos_train.plot(ax=ax, label='train')\n",
    "datos_test.plot(ax=ax, label='test')\n",
    "predicciones.plot(ax=ax, label='predicciones')\n",
    "ax.legend();\n",
    "\n",
    "fig.savefig('train_testprueba_planes.png')"
   ]
  },
  {
   "cell_type": "markdown",
   "id": "87e2eb62",
   "metadata": {},
   "source": [
    "### Error de las predicciones en el conjunto de test\n",
    "\n",
    "Se cuantifica el error que comete el modelo en sus predicciones. En este caso, se emplea como métrica el mean squared error (mse)."
   ]
  },
  {
   "cell_type": "code",
   "execution_count": 39,
   "id": "b519ed48",
   "metadata": {},
   "outputs": [
    {
     "name": "stdout",
     "output_type": "stream",
     "text": [
      "Error de test (mse): 1630.6262000000002\n"
     ]
    }
   ],
   "source": [
    "# Error test\n",
    "\n",
    "error_mse = mean_squared_error(\n",
    "                y_true = datos_test,\n",
    "                y_pred = predicciones\n",
    "            )\n",
    "\n",
    "print(f\"Error de test (mse): {error_mse}\")"
   ]
  },
  {
   "cell_type": "markdown",
   "id": "b79906e4",
   "metadata": {},
   "source": [
    "### Ajuste de hiperparámetros (tuning)\n",
    "\n",
    "El ForecasterAutoreg entrenado ha utilizado una ventana temporal de 6 lags y un modelo Random Forest con los hiperparámetros por defecto. Sin embargo, no hay ninguna razón por la que estos valores sean los más adecuados. Para identificar la mejor combinación de lags e hiperparámetros, la librería Skforecast dispone de la función grid_search_forecaster con la que comparar los resultados obtenidos con cada configuración del modelo."
   ]
  },
  {
   "cell_type": "code",
   "execution_count": 40,
   "id": "2bf4c609",
   "metadata": {},
   "outputs": [
    {
     "name": "stdout",
     "output_type": "stream",
     "text": [
      "Number of models compared: 12.\n"
     ]
    },
    {
     "name": "stderr",
     "output_type": "stream",
     "text": [
      "loop lags_grid:   0%|                                               | 0/2 [00:00<?, ?it/s]\n",
      "loop param_grid:   0%|                                              | 0/6 [00:00<?, ?it/s]\u001b[A\n",
      "loop param_grid:  17%|██████▎                               | 1/6 [00:00<00:00,  5.26it/s]\u001b[A\n",
      "loop param_grid:  33%|████████████▋                         | 2/6 [00:00<00:02,  1.81it/s]\u001b[A\n",
      "loop param_grid:  50%|███████████████████                   | 3/6 [00:01<00:01,  2.61it/s]\u001b[A\n",
      "loop param_grid:  67%|█████████████████████████▎            | 4/6 [00:02<00:01,  1.73it/s]\u001b[A\n",
      "loop param_grid:  83%|███████████████████████████████▋      | 5/6 [00:02<00:00,  2.30it/s]\u001b[A\n",
      "loop param_grid: 100%|██████████████████████████████████████| 6/6 [00:03<00:00,  1.80it/s]\u001b[A\n",
      "loop lags_grid:  50%|███████████████████▌                   | 1/2 [00:03<00:03,  3.04s/it]\u001b[A\n",
      "loop param_grid:   0%|                                              | 0/6 [00:00<?, ?it/s]\u001b[A\n",
      "loop param_grid:  17%|██████▎                               | 1/6 [00:00<00:00,  5.69it/s]\u001b[A\n",
      "loop param_grid:  33%|████████████▋                         | 2/6 [00:00<00:02,  1.87it/s]\u001b[A\n",
      "loop param_grid:  50%|███████████████████                   | 3/6 [00:01<00:01,  2.63it/s]\u001b[A\n",
      "loop param_grid:  67%|█████████████████████████▎            | 4/6 [00:02<00:01,  1.70it/s]\u001b[A\n",
      "loop param_grid:  83%|███████████████████████████████▋      | 5/6 [00:02<00:00,  2.18it/s]\u001b[A\n",
      "loop param_grid: 100%|██████████████████████████████████████| 6/6 [00:03<00:00,  1.74it/s]\u001b[A\n",
      "loop lags_grid: 100%|███████████████████████████████████████| 2/2 [00:06<00:00,  3.07s/it]\u001b[A\n"
     ]
    },
    {
     "name": "stdout",
     "output_type": "stream",
     "text": [
      "`Forecaster` refitted using the best-found lags and parameters, and the whole data set: \n",
      "  Lags: [1 2 3 4 5] \n",
      "  Parameters: {'max_depth': 3, 'n_estimators': 100}\n",
      "  Backtesting metric: 61.766500694444225\n",
      "\n"
     ]
    }
   ],
   "source": [
    "# Grid search de hiperparámetros\n",
    "\n",
    "steps = 7\n",
    "forecaster = ForecasterAutoreg(\n",
    "                regressor = RandomForestRegressor(random_state=123),\n",
    "                lags      = 7 # Este valor será remplazado en el grid search\n",
    "             )\n",
    "\n",
    "# Lags utilizados como predictores\n",
    "lags_grid = [5,10]\n",
    "\n",
    "# Hiperparámetros del regresor\n",
    "param_grid = {'n_estimators': [100, 500],\n",
    "              'max_depth': [3, 5, 7]}\n",
    "\n",
    "resultados_grid = grid_search_forecaster(\n",
    "                        forecaster         = forecaster,\n",
    "                        y                  = datos_train,\n",
    "                        param_grid         = param_grid,\n",
    "                        lags_grid          = lags_grid,\n",
    "                        steps              = steps,\n",
    "                        refit              = True,\n",
    "                        metric             = 'mean_squared_error',\n",
    "                        initial_train_size = 15,\n",
    "                        fixed_train_size   = False,\n",
    "                        return_best        = True,\n",
    "                        verbose            = False\n",
    "                  )"
   ]
  },
  {
   "cell_type": "code",
   "execution_count": 18,
   "id": "0d858489",
   "metadata": {},
   "outputs": [
    {
     "data": {
      "text/html": [
       "<div>\n",
       "<style scoped>\n",
       "    .dataframe tbody tr th:only-of-type {\n",
       "        vertical-align: middle;\n",
       "    }\n",
       "\n",
       "    .dataframe tbody tr th {\n",
       "        vertical-align: top;\n",
       "    }\n",
       "\n",
       "    .dataframe thead th {\n",
       "        text-align: right;\n",
       "    }\n",
       "</style>\n",
       "<table border=\"1\" class=\"dataframe\">\n",
       "  <thead>\n",
       "    <tr style=\"text-align: right;\">\n",
       "      <th></th>\n",
       "      <th>lags</th>\n",
       "      <th>params</th>\n",
       "      <th>mean_squared_error</th>\n",
       "      <th>max_depth</th>\n",
       "      <th>n_estimators</th>\n",
       "    </tr>\n",
       "  </thead>\n",
       "  <tbody>\n",
       "    <tr>\n",
       "      <th>0</th>\n",
       "      <td>[1, 2, 3, 4, 5]</td>\n",
       "      <td>{'max_depth': 3, 'n_estimators': 100}</td>\n",
       "      <td>61.766501</td>\n",
       "      <td>3</td>\n",
       "      <td>100</td>\n",
       "    </tr>\n",
       "    <tr>\n",
       "      <th>3</th>\n",
       "      <td>[1, 2, 3, 4, 5]</td>\n",
       "      <td>{'max_depth': 5, 'n_estimators': 500}</td>\n",
       "      <td>62.315236</td>\n",
       "      <td>5</td>\n",
       "      <td>500</td>\n",
       "    </tr>\n",
       "    <tr>\n",
       "      <th>1</th>\n",
       "      <td>[1, 2, 3, 4, 5]</td>\n",
       "      <td>{'max_depth': 3, 'n_estimators': 500}</td>\n",
       "      <td>62.337341</td>\n",
       "      <td>3</td>\n",
       "      <td>500</td>\n",
       "    </tr>\n",
       "    <tr>\n",
       "      <th>5</th>\n",
       "      <td>[1, 2, 3, 4, 5]</td>\n",
       "      <td>{'max_depth': 7, 'n_estimators': 500}</td>\n",
       "      <td>62.441604</td>\n",
       "      <td>7</td>\n",
       "      <td>500</td>\n",
       "    </tr>\n",
       "    <tr>\n",
       "      <th>2</th>\n",
       "      <td>[1, 2, 3, 4, 5]</td>\n",
       "      <td>{'max_depth': 5, 'n_estimators': 100}</td>\n",
       "      <td>62.726400</td>\n",
       "      <td>5</td>\n",
       "      <td>100</td>\n",
       "    </tr>\n",
       "    <tr>\n",
       "      <th>4</th>\n",
       "      <td>[1, 2, 3, 4, 5]</td>\n",
       "      <td>{'max_depth': 7, 'n_estimators': 100}</td>\n",
       "      <td>62.726400</td>\n",
       "      <td>7</td>\n",
       "      <td>100</td>\n",
       "    </tr>\n",
       "    <tr>\n",
       "      <th>6</th>\n",
       "      <td>[1, 2, 3, 4, 5, 6, 7, 8, 9, 10]</td>\n",
       "      <td>{'max_depth': 3, 'n_estimators': 100}</td>\n",
       "      <td>73.102500</td>\n",
       "      <td>3</td>\n",
       "      <td>100</td>\n",
       "    </tr>\n",
       "    <tr>\n",
       "      <th>8</th>\n",
       "      <td>[1, 2, 3, 4, 5, 6, 7, 8, 9, 10]</td>\n",
       "      <td>{'max_depth': 5, 'n_estimators': 100}</td>\n",
       "      <td>73.102500</td>\n",
       "      <td>5</td>\n",
       "      <td>100</td>\n",
       "    </tr>\n",
       "    <tr>\n",
       "      <th>10</th>\n",
       "      <td>[1, 2, 3, 4, 5, 6, 7, 8, 9, 10]</td>\n",
       "      <td>{'max_depth': 7, 'n_estimators': 100}</td>\n",
       "      <td>73.102500</td>\n",
       "      <td>7</td>\n",
       "      <td>100</td>\n",
       "    </tr>\n",
       "    <tr>\n",
       "      <th>7</th>\n",
       "      <td>[1, 2, 3, 4, 5, 6, 7, 8, 9, 10]</td>\n",
       "      <td>{'max_depth': 3, 'n_estimators': 500}</td>\n",
       "      <td>74.545956</td>\n",
       "      <td>3</td>\n",
       "      <td>500</td>\n",
       "    </tr>\n",
       "    <tr>\n",
       "      <th>9</th>\n",
       "      <td>[1, 2, 3, 4, 5, 6, 7, 8, 9, 10]</td>\n",
       "      <td>{'max_depth': 5, 'n_estimators': 500}</td>\n",
       "      <td>74.545956</td>\n",
       "      <td>5</td>\n",
       "      <td>500</td>\n",
       "    </tr>\n",
       "    <tr>\n",
       "      <th>11</th>\n",
       "      <td>[1, 2, 3, 4, 5, 6, 7, 8, 9, 10]</td>\n",
       "      <td>{'max_depth': 7, 'n_estimators': 500}</td>\n",
       "      <td>74.545956</td>\n",
       "      <td>7</td>\n",
       "      <td>500</td>\n",
       "    </tr>\n",
       "  </tbody>\n",
       "</table>\n",
       "</div>"
      ],
      "text/plain": [
       "                               lags                                 params  \\\n",
       "0                   [1, 2, 3, 4, 5]  {'max_depth': 3, 'n_estimators': 100}   \n",
       "3                   [1, 2, 3, 4, 5]  {'max_depth': 5, 'n_estimators': 500}   \n",
       "1                   [1, 2, 3, 4, 5]  {'max_depth': 3, 'n_estimators': 500}   \n",
       "5                   [1, 2, 3, 4, 5]  {'max_depth': 7, 'n_estimators': 500}   \n",
       "2                   [1, 2, 3, 4, 5]  {'max_depth': 5, 'n_estimators': 100}   \n",
       "4                   [1, 2, 3, 4, 5]  {'max_depth': 7, 'n_estimators': 100}   \n",
       "6   [1, 2, 3, 4, 5, 6, 7, 8, 9, 10]  {'max_depth': 3, 'n_estimators': 100}   \n",
       "8   [1, 2, 3, 4, 5, 6, 7, 8, 9, 10]  {'max_depth': 5, 'n_estimators': 100}   \n",
       "10  [1, 2, 3, 4, 5, 6, 7, 8, 9, 10]  {'max_depth': 7, 'n_estimators': 100}   \n",
       "7   [1, 2, 3, 4, 5, 6, 7, 8, 9, 10]  {'max_depth': 3, 'n_estimators': 500}   \n",
       "9   [1, 2, 3, 4, 5, 6, 7, 8, 9, 10]  {'max_depth': 5, 'n_estimators': 500}   \n",
       "11  [1, 2, 3, 4, 5, 6, 7, 8, 9, 10]  {'max_depth': 7, 'n_estimators': 500}   \n",
       "\n",
       "    mean_squared_error  max_depth  n_estimators  \n",
       "0            61.766501          3           100  \n",
       "3            62.315236          5           500  \n",
       "1            62.337341          3           500  \n",
       "5            62.441604          7           500  \n",
       "2            62.726400          5           100  \n",
       "4            62.726400          7           100  \n",
       "6            73.102500          3           100  \n",
       "8            73.102500          5           100  \n",
       "10           73.102500          7           100  \n",
       "7            74.545956          3           500  \n",
       "9            74.545956          5           500  \n",
       "11           74.545956          7           500  "
      ]
     },
     "execution_count": 18,
     "metadata": {},
     "output_type": "execute_result"
    }
   ],
   "source": [
    "# Resultados Grid Search\n",
    "\n",
    "resultados_grid"
   ]
  },
  {
   "cell_type": "markdown",
   "id": "a089cf30",
   "metadata": {},
   "source": [
    "Los mejores resultados se obtienen si se utiliza una ventana temporal de 5 lags y una configuración de Random Forest {'max_depth': 3, 'n_estimators': 100}."
   ]
  },
  {
   "cell_type": "markdown",
   "id": "b91422f3",
   "metadata": {},
   "source": [
    "### Modelo final\n",
    "\n",
    "Finalmente, se entrena de nuevo un ForecasterAutoreg con la configuración óptima encontrada mediante validación. Este paso no es necesario si se indica return_best = True en la función grid_search_forecaster."
   ]
  },
  {
   "cell_type": "code",
   "execution_count": 44,
   "id": "056fe98b",
   "metadata": {},
   "outputs": [],
   "source": [
    "# Crear y entrenar forecaster con mejores hiperparámetros\n",
    "\n",
    "regressor = RandomForestRegressor(max_depth=3, n_estimators=100, random_state=123)\n",
    "forecaster = ForecasterAutoreg(\n",
    "                regressor = regressor,\n",
    "                lags      = 5\n",
    "             )\n",
    "\n",
    "forecaster.fit(y=datos_train)"
   ]
  },
  {
   "cell_type": "code",
   "execution_count": 45,
   "id": "9592c584",
   "metadata": {},
   "outputs": [],
   "source": [
    "# Predicciones\n",
    "predicciones = forecaster.predict(steps=steps)"
   ]
  },
  {
   "cell_type": "code",
   "execution_count": 52,
   "id": "4f3218ea",
   "metadata": {},
   "outputs": [],
   "source": [
    "freq = pd.infer_freq(serie_extranjeros_planes.index)\n",
    "serie_extranjeros_planes.index = pd.date_range(start=serie_extranjeros_planes.index[0], periods=len(serie_extranjeros_planes), freq=freq)"
   ]
  },
  {
   "cell_type": "code",
   "execution_count": 53,
   "id": "f2f8ffc4",
   "metadata": {},
   "outputs": [],
   "source": [
    "regressor = RandomForestRegressor(max_depth=3, n_estimators=100, random_state=123)\n",
    "forecaster_f = ForecasterAutoreg(\n",
    "                regressor = regressor,\n",
    "                lags      = 5\n",
    "             )\n",
    "\n",
    "forecaster_f.fit(y=serie_extranjeros_planes)"
   ]
  },
  {
   "cell_type": "code",
   "execution_count": 56,
   "id": "df256f38",
   "metadata": {},
   "outputs": [],
   "source": [
    "# Definir la fecha de inicio y el número de pasos\n",
    "fecha_inicio = serie_extranjeros_planes.index[-1] + timedelta(days=1)\n",
    "pasos = 5 #5 años en dias\n",
    "\n",
    "# Crear un objeto de índice de tiempo para los pasos de predicción\n",
    "indice_tiempo = pd.date_range(start=fecha_inicio, periods=pasos, freq='Y')\n",
    "\n",
    "# Hacer las predicciones\n",
    "predicciones_f = forecaster_f.predict(steps=pasos)"
   ]
  },
  {
   "cell_type": "code",
   "execution_count": 57,
   "id": "5588f9ff",
   "metadata": {},
   "outputs": [
    {
     "data": {
      "text/plain": [
       "2023-01-01    221.32\n",
       "2024-01-01    221.32\n",
       "2025-01-01    221.32\n",
       "2026-01-01    221.32\n",
       "2027-01-01    221.32\n",
       "Freq: AS-JAN, Name: pred, dtype: float64"
      ]
     },
     "execution_count": 57,
     "metadata": {},
     "output_type": "execute_result"
    }
   ],
   "source": [
    "predicciones_f"
   ]
  },
  {
   "cell_type": "code",
   "execution_count": null,
   "id": "e4bb52cb",
   "metadata": {},
   "outputs": [],
   "source": [
    "indice_tiempo"
   ]
  },
  {
   "cell_type": "code",
   "execution_count": 61,
   "id": "544abfa1",
   "metadata": {},
   "outputs": [
    {
     "data": {
      "image/png": "[encoded data removed]",
      "text/plain": [
       "<Figure size 720x432 with 1 Axes>"
      ]
     },
     "metadata": {},
     "output_type": "display_data"
    }
   ],
   "source": [
    "# Gráfico\n",
    "fig, ax = plt.subplots(figsize=(10, 6))\n",
    "datos_train.plot(ax=ax, label='train')\n",
    "datos_test.plot(ax=ax, label='test')\n",
    "predicciones_f.plot(ax=ax, label='predicciones')\n",
    "ax.legend();\n",
    "\n",
    "fig.savefig('prediccion_planes.png')"
   ]
  },
  {
   "cell_type": "code",
   "execution_count": null,
   "id": "a34c3334",
   "metadata": {},
   "outputs": [],
   "source": [
    "predicciones_f"
   ]
  },
  {
   "cell_type": "markdown",
   "id": "13dd830b",
   "metadata": {},
   "source": [
    "### Error del Test"
   ]
  },
  {
   "cell_type": "code",
   "execution_count": null,
   "id": "f186f120",
   "metadata": {},
   "outputs": [],
   "source": [
    "error_mse = mean_squared_error(\n",
    "                y_true = datos_test,\n",
    "                y_pred = predicciones\n",
    "            )\n",
    "\n",
    "print(f\"Error de test (mse) {error_mse}\")\n",
    "\n"
   ]
  },
  {
   "cell_type": "code",
   "execution_count": null,
   "id": "d211036a",
   "metadata": {},
   "outputs": [],
   "source": []
  }
 ],
 "metadata": {
  "kernelspec": {
   "display_name": "Python 3 (ipykernel)",
   "language": "python",
   "name": "python3"
  },
  "language_info": {
   "codemirror_mode": {
    "name": "ipython",
    "version": 3
   },
   "file_extension": ".py",
   "mimetype": "text/x-python",
   "name": "python",
   "nbconvert_exporter": "python",
   "pygments_lexer": "ipython3",
   "version": "3.10.5"
  }
 },
 "nbformat": 4,
 "nbformat_minor": 5
}
